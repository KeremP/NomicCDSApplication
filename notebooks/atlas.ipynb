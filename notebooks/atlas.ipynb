{
 "cells": [
  {
   "cell_type": "code",
   "execution_count": 1,
   "metadata": {},
   "outputs": [],
   "source": [
    "from nomic import atlas\n",
    "import pandas as pd"
   ]
  },
  {
   "cell_type": "code",
   "execution_count": 3,
   "metadata": {},
   "outputs": [
    {
     "name": "stderr",
     "output_type": "stream",
     "text": [
      "C:\\Users\\kerpr\\AppData\\Local\\Temp\\ipykernel_21984\\69634328.py:1: DtypeWarning: Columns (10,11,12,26) have mixed types. Specify dtype option on import or set low_memory=False.\n",
      "  data = pd.read_csv(\"./nomic_data.csv\", index_col=0)\n"
     ]
    }
   ],
   "source": [
    "data = pd.read_csv(\"./nomic_data.csv\", index_col=0)"
   ]
  },
  {
   "cell_type": "code",
   "execution_count": 4,
   "metadata": {},
   "outputs": [],
   "source": [
    "data = data.loc[data['channel_name'] != \"joins\"]"
   ]
  },
  {
   "cell_type": "code",
   "execution_count": 5,
   "metadata": {},
   "outputs": [],
   "source": [
    "data = data.dropna(subset=['id','content'])"
   ]
  },
  {
   "cell_type": "code",
   "execution_count": 6,
   "metadata": {},
   "outputs": [
    {
     "data": {
      "text/plain": [
       "72572"
      ]
     },
     "execution_count": 6,
     "metadata": {},
     "output_type": "execute_result"
    }
   ],
   "source": [
    "len(data)"
   ]
  },
  {
   "cell_type": "code",
   "execution_count": 7,
   "metadata": {},
   "outputs": [],
   "source": [
    "documents = [{\"text\":data['content'].values[i], \"id\":i} for i in range(len(data))]"
   ]
  },
  {
   "cell_type": "code",
   "execution_count": 8,
   "metadata": {},
   "outputs": [
    {
     "data": {
      "text/plain": [
       "72572"
      ]
     },
     "execution_count": 8,
     "metadata": {},
     "output_type": "execute_result"
    }
   ],
   "source": [
    "len(documents)"
   ]
  },
  {
   "cell_type": "code",
   "execution_count": 9,
   "metadata": {},
   "outputs": [
    {
     "name": "stderr",
     "output_type": "stream",
     "text": [
      "\u001b[32m2023-05-12 00:04:32.282\u001b[0m | \u001b[1mINFO    \u001b[0m | \u001b[36mnomic.project\u001b[0m:\u001b[36m_create_project\u001b[0m:\u001b[36m965\u001b[0m - \u001b[1mCreating project `NomicDiscord` in organization `kerpro26`\u001b[0m\n",
      "\u001b[32m2023-05-12 00:04:33.415\u001b[0m | \u001b[1mINFO    \u001b[0m | \u001b[36mnomic.atlas\u001b[0m:\u001b[36mmap_text\u001b[0m:\u001b[36m212\u001b[0m - \u001b[1mUploading text to Atlas.\u001b[0m\n",
      "\u001b[32m2023-05-12 00:04:33.511\u001b[0m | \u001b[33m\u001b[1mWARNING \u001b[0m | \u001b[36mnomic.project\u001b[0m:\u001b[36m_validate_and_correct_arrow_upload\u001b[0m:\u001b[36m244\u001b[0m - \u001b[33m\u001b[1mid_field is not a string. Converting to string from int32\u001b[0m\n",
      " 14%|█▍        | 2/14 [00:02<00:14,  1.24s/it]\u001b[32m2023-05-12 00:04:36.573\u001b[0m | \u001b[31m\u001b[1mERROR   \u001b[0m | \u001b[36mnomic.project\u001b[0m:\u001b[36m_add_data\u001b[0m:\u001b[36m1523\u001b[0m - \u001b[31m\u001b[1mShard upload failed: {\"detail\":\"Uploading 5000 more datums exceeds your organization limit of 50000 datums per project. Contact support@nomic.ai to upgrade your limits.\"}\u001b[0m\n",
      "\u001b[32m2023-05-12 00:04:36.631\u001b[0m | \u001b[31m\u001b[1mERROR   \u001b[0m | \u001b[36mnomic.project\u001b[0m:\u001b[36m_add_data\u001b[0m:\u001b[36m1523\u001b[0m - \u001b[31m\u001b[1mShard upload failed: {\"detail\":\"Uploading 5000 more datums exceeds your organization limit of 50000 datums per project. Contact support@nomic.ai to upgrade your limits.\"}\u001b[0m\n",
      " 36%|███▌      | 5/14 [00:03<00:03,  2.47it/s]\u001b[32m2023-05-12 00:04:36.735\u001b[0m | \u001b[31m\u001b[1mERROR   \u001b[0m | \u001b[36mnomic.project\u001b[0m:\u001b[36m_add_data\u001b[0m:\u001b[36m1523\u001b[0m - \u001b[31m\u001b[1mShard upload failed: {\"detail\":\"Uploading 5000 more datums exceeds your organization limit of 50000 datums per project. Contact support@nomic.ai to upgrade your limits.\"}\u001b[0m\n",
      " 64%|██████▍   | 9/14 [00:03<00:00,  5.23it/s]\u001b[32m2023-05-12 00:04:36.960\u001b[0m | \u001b[31m\u001b[1mERROR   \u001b[0m | \u001b[36mnomic.project\u001b[0m:\u001b[36m_add_data\u001b[0m:\u001b[36m1523\u001b[0m - \u001b[31m\u001b[1mShard upload failed: {\"detail\":\"Uploading 5000 more datums exceeds your organization limit of 50000 datums per project. Contact support@nomic.ai to upgrade your limits.\"}\u001b[0m\n",
      "\u001b[32m2023-05-12 00:04:36.999\u001b[0m | \u001b[31m\u001b[1mERROR   \u001b[0m | \u001b[36mnomic.project\u001b[0m:\u001b[36m_add_data\u001b[0m:\u001b[36m1523\u001b[0m - \u001b[31m\u001b[1mShard upload failed: {\"detail\":\"Uploading 2572 more datums exceeds your organization limit of 50000 datums per project. Contact support@nomic.ai to upgrade your limits.\"}\u001b[0m\n",
      " 71%|███████▏  | 10/14 [00:03<00:01,  2.59it/s]\n",
      "\u001b[32m2023-05-12 00:04:37.392\u001b[0m | \u001b[1mINFO    \u001b[0m | \u001b[36mnomic.project\u001b[0m:\u001b[36m_add_data\u001b[0m:\u001b[36m1577\u001b[0m - \u001b[1mUpload succeeded.\u001b[0m\n",
      "\u001b[32m2023-05-12 00:04:37.394\u001b[0m | \u001b[1mINFO    \u001b[0m | \u001b[36mnomic.atlas\u001b[0m:\u001b[36mmap_text\u001b[0m:\u001b[36m228\u001b[0m - \u001b[1mText upload succeeded.\u001b[0m\n",
      "\u001b[32m2023-05-12 00:04:38.489\u001b[0m | \u001b[1mINFO    \u001b[0m | \u001b[36mnomic.project\u001b[0m:\u001b[36mcreate_index\u001b[0m:\u001b[36m1282\u001b[0m - \u001b[1mCreated map `NomicDiscord` in project `NomicDiscord`: https://atlas.nomic.ai/map/deb7a93e-fe0a-444d-8d4f-c92898b43d90/9f9c4db2-5730-4dbb-8bc0-188f264a79e3\u001b[0m\n",
      "\u001b[32m2023-05-12 00:04:38.492\u001b[0m | \u001b[1mINFO    \u001b[0m | \u001b[36mnomic.atlas\u001b[0m:\u001b[36mmap_text\u001b[0m:\u001b[36m242\u001b[0m - \u001b[1mNomicDiscord: https://atlas.nomic.ai/map/deb7a93e-fe0a-444d-8d4f-c92898b43d90/9f9c4db2-5730-4dbb-8bc0-188f264a79e3\u001b[0m\n"
     ]
    }
   ],
   "source": [
    "project = atlas.map_text(\n",
    "    data=documents,\n",
    "    id_field=\"id\",\n",
    "    indexed_field=\"text\",\n",
    "    name=\"NomicDiscord\",\n",
    "    description=\"Messages scraped from the Nomic Discord\"\n",
    ")"
   ]
  },
  {
   "cell_type": "code",
   "execution_count": 2,
   "metadata": {},
   "outputs": [],
   "source": [
    "proj = atlas.AtlasProject(project_id=\"deb7a93e-fe0a-444d-8d4f-c92898b43d90\")"
   ]
  },
  {
   "cell_type": "code",
   "execution_count": 4,
   "metadata": {},
   "outputs": [],
   "source": [
    "map = proj.maps[0]"
   ]
  },
  {
   "cell_type": "code",
   "execution_count": 5,
   "metadata": {},
   "outputs": [],
   "source": [
    "topic_data = map.get_topic_data()"
   ]
  },
  {
   "cell_type": "code",
   "execution_count": 14,
   "metadata": {},
   "outputs": [
    {
     "data": {
      "text/plain": [
       "{'depth': 1,\n",
       " 'topic': 4,\n",
       " '_topic_depth_1': 'GPT4ALL',\n",
       " 'topic_description': 'gpt4all/GPT/gpt/GPT4All/nomic/gpt4/github/GPT4ALL/ChatGPT/GPT4/ai/chatgpt/GPTQ/chat/com',\n",
       " 'topic_short_description': 'GPT4ALL'}"
      ]
     },
     "execution_count": 14,
     "metadata": {},
     "output_type": "execute_result"
    }
   ],
   "source": [
    "topic_data[3]"
   ]
  },
  {
   "cell_type": "code",
   "execution_count": 7,
   "metadata": {},
   "outputs": [
    {
     "ename": "TypeError",
     "evalue": "get_topic_density() missing 3 required positional arguments: 'time_field', 'start', and 'end'",
     "output_type": "error",
     "traceback": [
      "\u001b[1;31m---------------------------------------------------------------------------\u001b[0m",
      "\u001b[1;31mTypeError\u001b[0m                                 Traceback (most recent call last)",
      "Cell \u001b[1;32mIn[7], line 1\u001b[0m\n\u001b[1;32m----> 1\u001b[0m \u001b[39mmap\u001b[39;49m\u001b[39m.\u001b[39;49mget_topic_density()\n",
      "\u001b[1;31mTypeError\u001b[0m: get_topic_density() missing 3 required positional arguments: 'time_field', 'start', and 'end'"
     ]
    }
   ],
   "source": [
    "map.get_topic_density()"
   ]
  }
 ],
 "metadata": {
  "kernelspec": {
   "display_name": "nomiccds",
   "language": "python",
   "name": "python3"
  },
  "language_info": {
   "codemirror_mode": {
    "name": "ipython",
    "version": 3
   },
   "file_extension": ".py",
   "mimetype": "text/x-python",
   "name": "python",
   "nbconvert_exporter": "python",
   "pygments_lexer": "ipython3",
   "version": "3.9.16"
  },
  "orig_nbformat": 4
 },
 "nbformat": 4,
 "nbformat_minor": 2
}
